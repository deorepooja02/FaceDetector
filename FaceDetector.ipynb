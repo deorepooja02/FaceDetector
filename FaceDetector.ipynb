{
 "cells": [
  {
   "cell_type": "code",
   "execution_count": null,
   "id": "a3ae1a58",
   "metadata": {},
   "outputs": [],
   "source": [
    "import cv2 \n",
    "# Enable we\n",
    "# '0' is default ID for builtin web cam\n",
    "# for external web cam ID can be 1 or -1\n",
    "imcap = cv2.VideoCapture(0)\n",
    "imcap.set(3, 640) # set width as 640\n",
    "imcap.set(4, 480) # set height as 480\n",
    "# importing cascade\n",
    "faceCascade = cv2.CascadeClassifier(cv2.data.haarcascades + \"haarcascade_frontalface_default.xml\")\n",
    "while True:\n",
    "    success, img = imcap.read() # capture frame from video\n",
    "    # converting image from color to grayscale \n",
    "    imgGray = cv2.cvtColor(img, cv2.COLOR_BGR2GRAY)\n",
    "\n",
    "    # Getting corners around the face\n",
    "    # 1.3 = scale factor, 5 = minimum neighbor can be detected\n",
    "    faces = faceCascade.detectMultiScale(imgGray, 1.3, 5)  \n",
    "\n",
    "    # drawing bounding box around face\n",
    "    for (x, y, w, h) in faces:\n",
    "        img = cv2.rectangle(img, (x, y), (x + w, y + h), (0, 255,   0), 3)\n",
    "    # displaying image with bounding box\n",
    "    cv2.imshow('face_detect', img)\n",
    "    # loop will be broken when 'q' is pressed on the keyboard\n",
    "    if cv2.waitKey(10) & 0xFF == ord('q'):\n",
    "        break\n",
    "cap.release()\n",
    "cv2.destroyWindow('face_detect')"
   ]
  }
 ],
 "metadata": {
  "kernelspec": {
   "display_name": "Python 3 (ipykernel)",
   "language": "python",
   "name": "python3"
  },
  "language_info": {
   "codemirror_mode": {
    "name": "ipython",
    "version": 3
   },
   "file_extension": ".py",
   "mimetype": "text/x-python",
   "name": "python",
   "nbconvert_exporter": "python",
   "pygments_lexer": "ipython3",
   "version": "3.9.7"
  }
 },
 "nbformat": 4,
 "nbformat_minor": 5
}
